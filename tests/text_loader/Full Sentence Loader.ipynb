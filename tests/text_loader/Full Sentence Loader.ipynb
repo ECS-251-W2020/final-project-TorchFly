{
 "cells": [
  {
   "cell_type": "code",
   "execution_count": 1,
   "metadata": {},
   "outputs": [],
   "source": [
    "import os\n",
    "import ray"
   ]
  },
  {
   "cell_type": "code",
   "execution_count": null,
   "metadata": {},
   "outputs": [],
   "source": [
    "class SegmentCorpusLoader:\n",
    "    def __init__(\n",
    "        self, tokenizer, max_seq_length: int, corpus_path: str, cache_dir: str = \"cache/cached_corpus_sectors\"\n",
    "    ):\n",
    "        self.tokenizer = tokenizer\n",
    "        self.corpus_path = corpus_path\n",
    "        self.cache_dir = cache_dir\n",
    "        self.max_seq_length = max_seq_length\n",
    "        self.sent_segmenter = SentenceSegmenter(tokenizer, max_seq_length)\n",
    "\n",
    "        if cache_dir:\n",
    "            os.makedirs(cache_dir, exist_ok=True)\n",
    "\n",
    "        if \"OMP_NUM_THREADS\" not in os.environ.keys():\n",
    "            os.environ[\"OMP_NUM_THREADS\"] = str(os.cpu_count() // 2)\n",
    "\n",
    "    def load_sector(self, sector_id):\n",
    "        if self.cache_dir:\n",
    "\n",
    "            cache_path = os.path.join(self.cache_dir, f\"{sector_id}_cache.pkl\")\n",
    "\n",
    "            if os.path.exists(cache_path):\n",
    "                try:\n",
    "                    print(\"Loadding Cache\")\n",
    "                    processed_docs = torch.load(cache_path)\n",
    "                    return processed_docs\n",
    "                except:\n",
    "                    print(\"File Corrupted. Data will be re-processed\")\n",
    "\n",
    "        # processing data\n",
    "        with open(os.path.join(self.corpus_path, str(sector_id) + \".jsonl\"), \"r\") as f:\n",
    "            data = f.readlines()\n",
    "\n",
    "        processed_docs = []\n",
    "\n",
    "        print(\"Processing Data. Takes about 10 mins\")\n",
    "\n",
    "        # multi-processing\n",
    "        ray_objs = []\n",
    "        step_size = len(data) // int(os.environ[\"OMP_NUM_THREADS\"])\n",
    "        for i in range(0, len(data), step_size):\n",
    "            ray_objs.append(_process.remote(self.sent_segmenter, data[i:i + step_size], i))\n",
    "\n",
    "        for i in range(len(ray_objs)):\n",
    "            processed_docs.extend(ray.get(ray_objs[i]))\n",
    "\n",
    "        if self.cache_dir:\n",
    "            print(\"Saving Into Cache\")\n",
    "            torch.save(processed_docs, cache_path)\n",
    "\n",
    "        return processed_docs"
   ]
  }
 ],
 "metadata": {
  "kernelspec": {
   "display_name": "Python 3",
   "language": "python",
   "name": "python3"
  },
  "language_info": {
   "codemirror_mode": {
    "name": "ipython",
    "version": 3
   },
   "file_extension": ".py",
   "mimetype": "text/x-python",
   "name": "python",
   "nbconvert_exporter": "python",
   "pygments_lexer": "ipython3",
   "version": "3.7.4"
  }
 },
 "nbformat": 4,
 "nbformat_minor": 2
}
