{
 "cells": [
  {
   "cell_type": "code",
   "execution_count": 21,
   "metadata": {},
   "outputs": [],
   "source": [
    "import os\n",
    "import ray\n",
    "import json\n",
    "import tqdm\n",
    "import torch\n",
    "import logging\n",
    "import numpy as np\n",
    "from transformers import AutoTokenizer\n",
    "from typing import List\n",
    "\n",
    "from full_doc_loader import FullDocLoader\n",
    "\n",
    "logger = logging.getLogger(__name__)"
   ]
  },
  {
   "cell_type": "code",
   "execution_count": 47,
   "metadata": {},
   "outputs": [],
   "source": [
    "class FullDocIterator:\n",
    "    def __init__(self, processed_docs, sep_token: str, max_seq_length:int, allow_cross_doc=True):\n",
    "        self.processed_docs = processed_docs\n",
    "        self.max_seq_length = max_seq_length\n",
    "        self.allow_cross_doc = allow_cross_doc\n",
    "        self.total_num_docs = len(processed_docs)\n",
    "        self.sep_token = sep_token\n",
    "            \n",
    "\n",
    "    def __iter__ (self):\n",
    "        # shuffle the indices\n",
    "        indices = np.arange(self.total_num_docs)\n",
    "        np.random.shuffle(indices)\n",
    "        pointer = 0\n",
    "        current_seq = []\n",
    "\n",
    "        for doc_index in indices:\n",
    "            # randomly sample a document\n",
    "            doc = self.processed_docs[doc_index]\n",
    "            \n",
    "            if not self.allow_cross_doc:\n",
    "                for i in range(0, len(doc), self.max_seq_length):\n",
    "                    yield doc[i:i+self.max_seq_length], i==0\n",
    "            else:\n",
    "                current_seq.extend()\n",
    "                    \n",
    "                \n",
    "                # loop over the document except the last one\n",
    "                \n",
    "                \n",
    "                \n",
    "                    \n",
    "                    \n",
    "#                 # try to fill the current_seq\n",
    "#                 current_seq.extend(doc[last_pointer:last_pointer + self.max_seq_length - len(current_seq)])\n",
    "#                 last_pointer = last_pointer + self.max_seq_length - len(current_seq)\n",
    "                \n",
    "#                 if len(current_seq) == self.max_seq_length:\n",
    "#                     yield current_seq, i==0\n",
    "#                     current_seq = []\n",
    "\n",
    "\n",
    "class FullDocBatchIterator:\n",
    "    def __init__(self):\n",
    "        pass\n"
   ]
  },
  {
   "cell_type": "code",
   "execution_count": 49,
   "metadata": {},
   "outputs": [
    {
     "data": {
      "text/plain": [
       "[0]"
      ]
     },
     "execution_count": 49,
     "metadata": {},
     "output_type": "execute_result"
    }
   ],
   "source": [
    "list(range(0, 10-5, 5))"
   ]
  },
  {
   "cell_type": "code",
   "execution_count": 3,
   "metadata": {},
   "outputs": [],
   "source": [
    "tokenizer = AutoTokenizer.from_pretrained(\"roberta-base\")"
   ]
  },
  {
   "cell_type": "code",
   "execution_count": 4,
   "metadata": {},
   "outputs": [],
   "source": [
    "corpus_loader = FullDocLoader(tokenizer, corpus_path=\"/data/en-corpus/SECTOR/\")"
   ]
  },
  {
   "cell_type": "code",
   "execution_count": 5,
   "metadata": {},
   "outputs": [
    {
     "name": "stdout",
     "output_type": "stream",
     "text": [
      "Loadding Cache\n"
     ]
    }
   ],
   "source": [
    "processed_docs = corpus_loader.load_sector(0)"
   ]
  },
  {
   "cell_type": "code",
   "execution_count": 32,
   "metadata": {},
   "outputs": [],
   "source": [
    "iterator = FullDocIterator(tokenizer, processed_docs, max_seq_length=128, allow_cross_doc=True)"
   ]
  },
  {
   "cell_type": "code",
   "execution_count": 33,
   "metadata": {},
   "outputs": [],
   "source": [
    "iterator = iter(iterator)"
   ]
  },
  {
   "cell_type": "code",
   "execution_count": 45,
   "metadata": {},
   "outputs": [
    {
     "data": {
      "text/plain": [
       "(['ĠHe',\n",
       "  'Ġwas',\n",
       "  'Ġeducated',\n",
       "  'Ġat',\n",
       "  'Ġhome',\n",
       "  'Ġand',\n",
       "  'Ġat',\n",
       "  'ĠE',\n",
       "  'ton',\n",
       "  'ĠCollege',\n",
       "  '.',\n",
       "  'ĠIn',\n",
       "  'Ġ18',\n",
       "  '18',\n",
       "  ',',\n",
       "  'ĠCarnegie',\n",
       "  'Ġbegan',\n",
       "  'Ġhis',\n",
       "  'ĠGrand',\n",
       "  'ĠTour',\n",
       "  ',',\n",
       "  'Ġfirst',\n",
       "  'Ġvisiting',\n",
       "  'ĠFrance',\n",
       "  ',',\n",
       "  'ĠGermany',\n",
       "  'Ġand',\n",
       "  'ĠItaly',\n",
       "  ',',\n",
       "  'Ġthen',\n",
       "  'ĠSpain',\n",
       "  'Ġand',\n",
       "  'ĠHolland',\n",
       "  'Ġin',\n",
       "  'Ġthe',\n",
       "  'Ġfollowing',\n",
       "  'Ġyear',\n",
       "  '.',\n",
       "  'Ġ',\n",
       "  'Ċ',\n",
       "  'Ċ',\n",
       "  'Care',\n",
       "  'er',\n",
       "  '.',\n",
       "  'Ġ',\n",
       "  'Ċ',\n",
       "  'Car',\n",
       "  'negie',\n",
       "  'Ġentered',\n",
       "  'Ġthe',\n",
       "  'ĠBritish',\n",
       "  'ĠHouse',\n",
       "  'Ġof',\n",
       "  'ĠCommons',\n",
       "  'Ġin',\n",
       "  'Ġ1830',\n",
       "  'Ġand',\n",
       "  'Ġsat',\n",
       "  'Ġas',\n",
       "  'ĠMember',\n",
       "  'Ġof',\n",
       "  'ĠParliament',\n",
       "  'Ġ(',\n",
       "  'MP',\n",
       "  ')',\n",
       "  'Ġfor',\n",
       "  'ĠAberdeen',\n",
       "  'ĠBur',\n",
       "  'gh',\n",
       "  's',\n",
       "  'Ġuntil',\n",
       "  'Ġthe',\n",
       "  'Ġfollowing',\n",
       "  'Ġyear',\n",
       "  '.',\n",
       "  'ĠHe',\n",
       "  'Ġwas',\n",
       "  'Ġa',\n",
       "  'ĠDeputy',\n",
       "  'ĠLieutenant',\n",
       "  'Ġof',\n",
       "  'ĠFor',\n",
       "  'f',\n",
       "  'arsh',\n",
       "  'ire',\n",
       "  '.',\n",
       "  'ĠIn',\n",
       "  'Ġ18',\n",
       "  '47',\n",
       "  ',',\n",
       "  'Ġhe',\n",
       "  'Ġpetition',\n",
       "  'ed',\n",
       "  'Ġthe',\n",
       "  'Ġrestoration',\n",
       "  'Ġof',\n",
       "  'Ġthe',\n",
       "  'Ġforfe',\n",
       "  'ited',\n",
       "  'Ġtitles',\n",
       "  'ĠLord',\n",
       "  'ĠCarnegie',\n",
       "  'Ġand',\n",
       "  'ĠEarl',\n",
       "  'Ġof',\n",
       "  'ĠS',\n",
       "  'out',\n",
       "  'hes',\n",
       "  'k',\n",
       "  ',',\n",
       "  'Ġhowever',\n",
       "  'Ġafter',\n",
       "  'Ġassessment',\n",
       "  'Ġby',\n",
       "  'Ġthe',\n",
       "  'ĠCommittee',\n",
       "  'Ġof',\n",
       "  'ĠPriv',\n",
       "  'ile',\n",
       "  'ges',\n",
       "  'Ġhis',\n",
       "  'Ġclaim',\n",
       "  'Ġwas',\n",
       "  'Ġnot',\n",
       "  'Ġfollowed',\n",
       "  'Ġup',\n",
       "  '.',\n",
       "  'Ġ'],\n",
       " False)"
      ]
     },
     "execution_count": 45,
     "metadata": {},
     "output_type": "execute_result"
    }
   ],
   "source": [
    "next(iterator)"
   ]
  },
  {
   "cell_type": "code",
   "execution_count": null,
   "metadata": {},
   "outputs": [],
   "source": []
  }
 ],
 "metadata": {
  "kernelspec": {
   "display_name": "Python 3",
   "language": "python",
   "name": "python3"
  },
  "language_info": {
   "codemirror_mode": {
    "name": "ipython",
    "version": 3
   },
   "file_extension": ".py",
   "mimetype": "text/x-python",
   "name": "python",
   "nbconvert_exporter": "python",
   "pygments_lexer": "ipython3",
   "version": "3.7.4"
  }
 },
 "nbformat": 4,
 "nbformat_minor": 2
}
